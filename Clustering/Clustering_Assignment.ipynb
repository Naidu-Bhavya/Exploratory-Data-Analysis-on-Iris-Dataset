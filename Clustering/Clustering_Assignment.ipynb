{
 "cells": [
  {
   "cell_type": "markdown",
   "metadata": {
    "colab_type": "text",
    "id": "MwM5tdEPTp83"
   },
   "source": [
    "# <font color='red'>Clustering Assignment</font>"
   ]
  },
  {
   "cell_type": "markdown",
   "metadata": {
    "colab_type": "text",
    "id": "aW8pyV-Q5fV2"
   },
   "source": [
    "**There will be some functions that start with the word \"grader\" ex: grader_actors(), grader_movies(), grader_cost1() etc, you should not change those function definition.<br><br>Every Grader function has to return True.**"
   ]
  },
  {
   "cell_type": "markdown",
   "metadata": {
    "colab_type": "text",
    "id": "nOvuWZ1XLFPG"
   },
   "source": [
    "**Please check [clustering assignment helper functions](https://drive.google.com/file/d/1V29KhKo3YnckMX32treEgdtH5r90DIjU/view?usp=sharing) notebook before attempting this assignment.**"
   ]
  },
  {
   "cell_type": "markdown",
   "metadata": {
    "colab_type": "text",
    "id": "KwVzbmIoT621"
   },
   "source": [
    "*  Read graph from the given <font color='blue'>movie_actor_network.csv</font> (note that the graph is bipartite graph.)\n",
    "\n",
    "*  Using stellergaph and gensim packages, get the dense representation(128dimensional vector) of every node in the graph. [Refer <font color='blue'>Clustering_Assignment_Reference.ipynb</font>]\n",
    "\n",
    "* Split the dense representation into actor nodes, movies nodes.(Write you code in <font color='blue'>def data_split()</font>)\n"
   ]
  },
  {
   "cell_type": "markdown",
   "metadata": {
    "colab_type": "text",
    "id": "3lUhnVcTZ3q_"
   },
   "source": [
    "# <font color='red'>Task 1 : Apply clustering algorithm to group similar actors</font>"
   ]
  },
  {
   "cell_type": "markdown",
   "metadata": {
    "colab_type": "text",
    "id": "dG0XAMMmgi1r"
   },
   "source": [
    " 1. For this task consider only the actor nodes \n",
    " 2. Apply any clustering algorithm of your choice <br>\n",
    "    Refer : https://scikit-learn.org/stable/modules/clustering.html\n",
    " 3. Choose the number of clusters for which you have maximum score of <b>$Cost1*Cost2$</b><br>\n",
    " 4. Cost1 = $\\frac{1}{N}\\sum_{\\text{each cluster i}}  \\frac{\\text{(number of nodes in the largest connected component in the graph with the actor nodes and its movie neighbours in cluster i)}}{\\text{(total number of nodes in that cluster i)}}$ where N= number of clusters \n",
    "<br> (Write your code in <font color='blue'>def cost1()</font>)<br>\n",
    " 5. Cost2 = $\\frac{1}{N}\\sum_{\\text{each cluster i}}  \\frac{\\text{(sum of degress of actor nodes in the graph with the actor nodes and its movie neighbours in cluster i)}}{\\text{(number of unique movie nodes in the graph with the actor nodes and its movie neighbours in cluster i)}}$ where N= number of clusters \n",
    " <br> (Write your code in <font color='blue'>def cost2()</font>)<br>\n",
    " 6. Fit the clustering algorithm with the opimal number_of_clusters and get the cluster number for each node <br>\n",
    " 7. Convert the d-dimensional dense vectors of nodes into 2-dimensional using dimensionality reduction techniques (preferably TSNE)<br>\n",
    " 8. Plot the 2d scatter plot, with the node vectors after step e and give colors to nodes such that same cluster nodes will have same color"
   ]
  },
  {
   "cell_type": "markdown",
   "metadata": {
    "colab_type": "text",
    "id": "7pH2axXawRbG"
   },
   "source": [
    "<img src='https://i.imgur.com/4SPYPFa.jpg'>"
   ]
  },
  {
   "cell_type": "markdown",
   "metadata": {
    "colab_type": "text",
    "id": "Qh7HrbKAuGbD"
   },
   "source": [
    "# <font color='red'>Task 2 : Apply clustering algorithm to group similar movies</font>"
   ]
  },
  {
   "cell_type": "markdown",
   "metadata": {
    "colab_type": "text",
    "id": "e9pALo19uJsw"
   },
   "source": [
    "\n",
    "1. For this task consider only the movie nodes\n",
    "2. Apply any clustering algorithm of your choice\n",
    "3.Choose the number of clusters for which you have maximum score of $Cost1*Cost2$ <br>\n",
    "\n",
    "    Cost1 = $\\frac{1}{N}\\sum_{\\text{each cluster i}}  \\frac{\\text{(number of nodes in the largest connected component in the graph with the movie nodes and its actor neighbours in cluster i)}}{\\text{(total number of nodes in that cluster i)}}$ where N= number of clusters <br>\n",
    "(Write your code in <font color='blue'>def cost1()</font>)<br>\n",
    "\t\n",
    "4. Cost2 = $\\frac{1}{N}\\sum_{\\text{each cluster i}}  \\frac{\\text{(sum of degress of movie nodes in the graph with the movie nodes and its actor neighbours in cluster i)}}{\\text{(number of unique actor nodes in the graph with the movie nodes and its actor neighbours in cluster i)}}$ \n",
    "where N= number of clusters \n",
    "<br>(Write your code in <font color='blue'>def cost2()</font>)<br>\n"
   ]
  },
  {
   "cell_type": "markdown",
   "metadata": {
    "colab_type": "text",
    "id": "MrXdWBDSvijT"
   },
   "source": [
    "**Algorithm for actor nodes**"
   ]
  },
  {
   "cell_type": "markdown",
   "metadata": {
    "colab_type": "text",
    "id": "JLAAEftyvs9b"
   },
   "source": [
    "<pre>\n",
    "\tfor number_of_clusters in [3, 5, 10, 30, 50, 100, 200, 500]:\n",
    "\t\talgo = clustering_algorith(clusters=number_of_clusters)\n",
    "        # you will be passing a matrix of size N*d where N number of actor nodes and d is dimension from gensim\n",
    "\t\talgo.fit(the dense vectors of actor nodes) \n",
    "        You can get the labels for corresponding actor nodes (algo.labels_)\n",
    "        Create a graph for every cluster(ie., if n_clusters=3, create 3 graphs)\n",
    "        (You can use ego_graph to create subgraph from the actual graph)\n",
    "        compute cost1,cost2 \n",
    "           (if n_cluster=3, cost1=cost1(graph1)+cost1(graph2)+cost1(graph3) # here we are doing summation\n",
    "            cost2=cost2(graph1)+cost2(graph2)+cost2(graph3)\n",
    "\t\tcomputer the metric Cost = Cost1*Cost2\n",
    "\treturn number_of_clusters which have maximum Cost\n",
    "\t</pre>"
   ]
  },
  {
   "cell_type": "markdown",
   "metadata": {
    "colab_type": "text",
    "id": "DLbRJvsgyniG"
   },
   "source": [
    "<br>"
   ]
  },
  {
   "cell_type": "code",
   "execution_count": 1,
   "metadata": {
    "colab": {},
    "colab_type": "code",
    "id": "j_5uI10OyqVe"
   },
   "outputs": [],
   "source": [
    "#!pip install networkx==2.3"
   ]
  },
  {
   "cell_type": "code",
   "execution_count": 2,
   "metadata": {
    "colab": {},
    "colab_type": "code",
    "id": "ppVsL_H-co0G"
   },
   "outputs": [],
   "source": [
    "import networkx as nx\n",
    "from networkx.algorithms import bipartite\n",
    "import matplotlib.pyplot as plt\n",
    "from sklearn.cluster import KMeans\n",
    "import numpy as np\n",
    "import warnings\n",
    "warnings.filterwarnings(\"ignore\")\n",
    "import pandas as pd\n",
    "# you need to have tensorflow \n",
    "from stellargraph.data import UniformRandomMetaPathWalk\n",
    "from stellargraph import StellarGraph\n",
    "from tqdm import tqdm"
   ]
  },
  {
   "cell_type": "code",
   "execution_count": 3,
   "metadata": {},
   "outputs": [
    {
     "data": {
      "text/plain": [
       "'2.3'"
      ]
     },
     "execution_count": 3,
     "metadata": {},
     "output_type": "execute_result"
    }
   ],
   "source": [
    "nx.__version__ "
   ]
  },
  {
   "cell_type": "code",
   "execution_count": 4,
   "metadata": {
    "colab": {},
    "colab_type": "code",
    "id": "QbChYqlFv_cL"
   },
   "outputs": [],
   "source": [
    "data=pd.read_csv('movie_actor_network.csv', index_col=False, names=['movie','actor'])"
   ]
  },
  {
   "cell_type": "code",
   "execution_count": 5,
   "metadata": {
    "colab": {},
    "colab_type": "code",
    "id": "gcBsQzFGv_fL"
   },
   "outputs": [],
   "source": [
    "edges = [tuple(x) for x in data.values.tolist()]"
   ]
  },
  {
   "cell_type": "code",
   "execution_count": 6,
   "metadata": {
    "colab": {},
    "colab_type": "code",
    "id": "uTzj_WK-v_iL"
   },
   "outputs": [],
   "source": [
    "B = nx.Graph()\n",
    "B.add_nodes_from(data['movie'].unique(), bipartite=0, label='movie')\n",
    "B.add_nodes_from(data['actor'].unique(), bipartite=1, label='actor')\n",
    "B.add_edges_from(edges, label='acted')"
   ]
  },
  {
   "cell_type": "code",
   "execution_count": 7,
   "metadata": {
    "colab": {},
    "colab_type": "code",
    "id": "4cNRukL2v_lT"
   },
   "outputs": [],
   "source": [
    "A = list(nx.connected_component_subgraphs(B))[0]"
   ]
  },
  {
   "cell_type": "code",
   "execution_count": 8,
   "metadata": {
    "colab": {},
    "colab_type": "code",
    "id": "Mbrcb_npv_oY"
   },
   "outputs": [
    {
     "name": "stdout",
     "output_type": "stream",
     "text": [
      "number of nodes 4703\n",
      "number of edges 9650\n"
     ]
    }
   ],
   "source": [
    "print(\"number of nodes\", A.number_of_nodes())\n",
    "print(\"number of edges\", A.number_of_edges())"
   ]
  },
  {
   "cell_type": "code",
   "execution_count": 9,
   "metadata": {
    "colab": {},
    "colab_type": "code",
    "id": "izhQYFBuv_ru"
   },
   "outputs": [
    {
     "data": {
      "image/png": "[encoded data removed]",
      "text/plain": [
       "<Figure size 432x288 with 1 Axes>"
      ]
     },
     "metadata": {},
     "output_type": "display_data"
    }
   ],
   "source": [
    "l, r = nx.bipartite.sets(A)\n",
    "pos = {}\n",
    "\n",
    "pos.update((node, (1, index)) for index, node in enumerate(l))\n",
    "pos.update((node, (2, index)) for index, node in enumerate(r))\n",
    "  \n",
    "nx.draw(A, pos=pos, with_labels=True)\n",
    "plt.show()"
   ]
  },
  {
   "cell_type": "code",
   "execution_count": 10,
   "metadata": {
    "colab": {},
    "colab_type": "code",
    "id": "hO1t2gViv_vH"
   },
   "outputs": [
    {
     "name": "stdout",
     "output_type": "stream",
     "text": [
      "number of movies  1292\n",
      "number of actors  3411\n"
     ]
    }
   ],
   "source": [
    "movies = []\n",
    "actors = []\n",
    "for i in A.nodes():\n",
    "    if 'm' in i:\n",
    "        movies.append(i)\n",
    "    if 'a' in i:\n",
    "        actors.append(i)\n",
    "print('number of movies ', len(movies))\n",
    "print('number of actors ', len(actors))"
   ]
  },
  {
   "cell_type": "code",
   "execution_count": 11,
   "metadata": {
    "colab": {},
    "colab_type": "code",
    "id": "caqMya1xy_QT"
   },
   "outputs": [
    {
     "name": "stdout",
     "output_type": "stream",
     "text": [
      "Number of random walks: 4703\n"
     ]
    }
   ],
   "source": [
    "\n",
    "# Create the random walker\n",
    "rw = UniformRandomMetaPathWalk(StellarGraph(A))\n",
    "\n",
    "# specify the metapath schemas as a list of lists of node types.\n",
    "metapaths = [\n",
    "    [\"movie\", \"actor\", \"movie\"],\n",
    "    [\"actor\", \"movie\", \"actor\"]\n",
    "]\n",
    "\n",
    "walks = rw.run(nodes=list(A.nodes()), # root nodes\n",
    "               length=100,  # maximum length of a random walk\n",
    "               n=1,        # number of random walks per root node \n",
    "               metapaths=metapaths\n",
    "              )\n",
    "\n",
    "print(\"Number of random walks: {}\".format(len(walks)))"
   ]
  },
  {
   "cell_type": "code",
   "execution_count": 12,
   "metadata": {
    "colab": {},
    "colab_type": "code",
    "id": "FYCCAqFhzCpz"
   },
   "outputs": [],
   "source": [
    "from gensim.models import Word2Vec\n",
    "model = Word2Vec(walks, size=128, window=5)"
   ]
  },
  {
   "cell_type": "code",
   "execution_count": 13,
   "metadata": {
    "colab": {},
    "colab_type": "code",
    "id": "x3Xf2z1-co3k"
   },
   "outputs": [
    {
     "data": {
      "text/plain": [
       "(4703, 128)"
      ]
     },
     "execution_count": 13,
     "metadata": {},
     "output_type": "execute_result"
    }
   ],
   "source": [
    "model.wv.vectors.shape  # 128-dimensional vector for each node in the graph"
   ]
  },
  {
   "cell_type": "code",
   "execution_count": 14,
   "metadata": {
    "colab": {},
    "colab_type": "code",
    "id": "ja8oxOWVzE2e"
   },
   "outputs": [],
   "source": [
    "# Retrieve node embeddings and corresponding subjects\n",
    "node_ids = model.wv.index2word  # list of node IDs\n",
    "node_embeddings = model.wv.vectors  # numpy.ndarray of size number of nodes times embeddings dimensionality\n",
    "node_targets = [ A.node[node_id]['label'] for node_id in node_ids]"
   ]
  },
  {
   "cell_type": "markdown",
   "metadata": {
    "colab_type": "text",
    "id": "TMIE_4D17fp_"
   },
   "source": [
    "![image.png](data:image/png;base64,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)"
   ]
  },
  {
   "cell_type": "code",
   "execution_count": 15,
   "metadata": {
    "colab": {},
    "colab_type": "code",
    "id": "Y63_g9Y4co66"
   },
   "outputs": [],
   "source": [
    "def data_split(node_ids,node_targets,node_embeddings):\n",
    "    '''In this function, we will split the node embeddings into actor_embeddings , movie_embeddings '''\n",
    "    actor_nodes,movie_nodes=[],[]\n",
    "    actor_embeddings,movie_embeddings=[],[]\n",
    "    # split the node_embeddings into actor_embeddings,movie_embeddings based on node_ids\n",
    "    # By using node_embedding and node_targets, we can extract actor_embedding and movie embedding\n",
    "    # By using node_ids and node_targets, we can extract actor_nodes and movie nodes\n",
    "    node_targets1 = np.array([node_targets])\n",
    "    indexes_actors = np.where(node_targets1 == 'actor')[1] \n",
    "    indexes_movies = np.where(node_targets1 == 'movie')[1]\n",
    "    for i in indexes_actors:\n",
    "        actor_nodes.append(node_ids[i])\n",
    "        actor_embeddings.append(node_embeddings[i])\n",
    "    \n",
    "    for j in indexes_movies:\n",
    "        movie_nodes.append(node_ids[j])\n",
    "        movie_embeddings.append(node_embeddings[j])\n",
    "    \n",
    "    \n",
    "    \n",
    "    \n",
    "\n",
    "    return actor_nodes,movie_nodes,actor_embeddings,movie_embeddings\n",
    "  \n"
   ]
  },
  {
   "cell_type": "code",
   "execution_count": 16,
   "metadata": {},
   "outputs": [],
   "source": [
    "actor_nodes,movie_nodes,actor_embeddings,movie_embeddings=data_split(node_ids,node_targets,node_embeddings)"
   ]
  },
  {
   "cell_type": "markdown",
   "metadata": {
    "colab_type": "text",
    "id": "xa7PdnRufRV3"
   },
   "source": [
    "<font color='cyan'>Graded function - 1</font>"
   ]
  },
  {
   "cell_type": "code",
   "execution_count": 17,
   "metadata": {
    "colab": {},
    "colab_type": "code",
    "id": "PGG8Drj5fNbY"
   },
   "outputs": [
    {
     "data": {
      "text/plain": [
       "True"
      ]
     },
     "execution_count": 17,
     "metadata": {},
     "output_type": "execute_result"
    }
   ],
   "source": [
    "def grader_actors(data):\n",
    "    assert(len(data)==3411)\n",
    "    return True\n",
    "grader_actors(actor_nodes)"
   ]
  },
  {
   "cell_type": "markdown",
   "metadata": {
    "colab_type": "text",
    "id": "3ZuEXUw-fipG"
   },
   "source": [
    "<font color='cyan'>Graded function - 2</font>"
   ]
  },
  {
   "cell_type": "code",
   "execution_count": 18,
   "metadata": {
    "colab": {},
    "colab_type": "code",
    "id": "tYTGJqQTflxL"
   },
   "outputs": [
    {
     "data": {
      "text/plain": [
       "True"
      ]
     },
     "execution_count": 18,
     "metadata": {},
     "output_type": "execute_result"
    }
   ],
   "source": [
    "def grader_movies(data):\n",
    "    assert(len(data)==1292)\n",
    "    return True\n",
    "grader_movies(movie_nodes)"
   ]
  },
  {
   "cell_type": "markdown",
   "metadata": {
    "colab_type": "text",
    "id": "0Nz_ojodhwOp"
   },
   "source": [
    "<font color='blue'>Calculating cost1</font>"
   ]
  },
  {
   "cell_type": "markdown",
   "metadata": {
    "colab_type": "text",
    "id": "xdixgDsZhtM1"
   },
   "source": [
    "Cost1 = $\\frac{1}{N}\\sum_{\\text{each cluster i}}  \\frac{\\text{(number of nodes in the largest connected component in the graph with the actor nodes and its movie neighbours in cluster i)}}{\\text{(total number of nodes in that cluster i)}}$ where N= number of clusters <br><br>\n",
    "<br>"
   ]
  },
  {
   "cell_type": "code",
   "execution_count": 19,
   "metadata": {
    "colab": {},
    "colab_type": "code",
    "id": "7akLq1z6hiiU"
   },
   "outputs": [],
   "source": [
    "def cost1(graph,number_of_clusters):\n",
    "    '''In this function, we will calculate cost1'''\n",
    "    N = number_of_clusters\n",
    "    larest_cc = max(nx.connected_components(graph), key = len)\n",
    "    num_nodes_L_cc = len(larest_cc)\n",
    "    total_num_nodes = graph.number_of_nodes()\n",
    "   \n",
    "    cost1= num_nodes_L_cc/total_num_nodes\n",
    "    cost1 = cost1/N\n",
    "    return cost1"
   ]
  },
  {
   "cell_type": "code",
   "execution_count": 20,
   "metadata": {
    "colab": {
     "base_uri": "https://localhost:8080/",
     "height": 248
    },
    "colab_type": "code",
    "id": "C4EdKJyri-wl",
    "outputId": "5fd95d35-956c-4d39-e2cd-107e5bbc59a7"
   },
   "outputs": [
    {
     "data": {
      "image/png": "[encoded data removed]",
      "text/plain": [
       "<Figure size 432x288 with 1 Axes>"
      ]
     },
     "metadata": {},
     "output_type": "display_data"
    }
   ],
   "source": [
    "import networkx as nx\n",
    "from networkx.algorithms import bipartite\n",
    "graded_graph= nx.Graph()\n",
    "graded_graph.add_nodes_from(['a1','a5','a10','a11'], bipartite=0) # Add the node attribute \"bipartite\"\n",
    "graded_graph.add_nodes_from(['m1','m2','m4','m6','m5','m8'], bipartite=1)\n",
    "graded_graph.add_edges_from([('a1','m1'),('a1','m2'),('a1','m4'),('a11','m6'),('a5','m5'),('a10','m8')])\n",
    "l={'a1','a5','a10','a11'};r={'m1','m2','m4','m6','m5','m8'}\n",
    "pos = {}\n",
    "pos.update((node, (1, index)) for index, node in enumerate(l))\n",
    "pos.update((node, (2, index)) for index, node in enumerate(r))\n",
    "nx.draw_networkx(graded_graph, pos=pos, with_labels=True,node_color='lightblue',alpha=0.8,style='dotted',node_size=500)"
   ]
  },
  {
   "cell_type": "markdown",
   "metadata": {
    "colab_type": "text",
    "id": "fVNEfef6raEn"
   },
   "source": [
    "<font color='cyan'>Graded function - 3</font>"
   ]
  },
  {
   "cell_type": "code",
   "execution_count": 21,
   "metadata": {
    "colab": {},
    "colab_type": "code",
    "id": "B4YRxNkKj1Qc"
   },
   "outputs": [
    {
     "data": {
      "text/plain": [
       "True"
      ]
     },
     "execution_count": 21,
     "metadata": {},
     "output_type": "execute_result"
    }
   ],
   "source": [
    "graded_cost1=cost1(graded_graph,3)\n",
    "def grader_cost1(data):\n",
    "    assert(data==((1/3)*(4/10))) # 1/3 is number of clusters\n",
    "    return True\n",
    "grader_cost1(graded_cost1)"
   ]
  },
  {
   "cell_type": "markdown",
   "metadata": {
    "colab_type": "text",
    "id": "J7qiz7nxsqJL"
   },
   "source": [
    "<font color='blue'>Calculating cost2</font>"
   ]
  },
  {
   "cell_type": "markdown",
   "metadata": {
    "colab_type": "text",
    "id": "XFqzhGqys03U"
   },
   "source": [
    "Cost2 = $\\frac{1}{N}\\sum_{\\text{each cluster i}}  \\frac{\\text{(sum of degress of actor nodes in the graph with the actor nodes and its movie neighbours in cluster i)}}{\\text{(number of unique movie nodes in the graph with the actor nodes and its movie neighbours in cluster i)}}$ where N= number of clusters "
   ]
  },
  {
   "cell_type": "code",
   "execution_count": 22,
   "metadata": {
    "colab": {},
    "colab_type": "code",
    "id": "NH6ayCdKsw0U"
   },
   "outputs": [],
   "source": [
    "def cost2(graph,number_of_clusters):\n",
    "    '''In this function, we will calculate cost1'''\n",
    "    N = number_of_clusters\n",
    "    Sum_degree = graph.number_of_edges()\n",
    "    movies = []\n",
    "    for i in graph.nodes():\n",
    "        if 'm' in i:\n",
    "           movies.append(i)\n",
    "    movies = set(movies)\n",
    "    L_movies = len(movies)\n",
    "    cost2= Sum_degree/L_movies\n",
    "    cost2 = cost2/N\n",
    "    \n",
    "    return cost2"
   ]
  },
  {
   "cell_type": "markdown",
   "metadata": {
    "colab_type": "text",
    "id": "SaL1nOMrtYMT"
   },
   "source": [
    "<font color='cyan'>Graded function - 4</font>"
   ]
  },
  {
   "cell_type": "code",
   "execution_count": 23,
   "metadata": {
    "colab": {},
    "colab_type": "code",
    "id": "lNC23DCIs-uD"
   },
   "outputs": [
    {
     "data": {
      "text/plain": [
       "True"
      ]
     },
     "execution_count": 23,
     "metadata": {},
     "output_type": "execute_result"
    }
   ],
   "source": [
    "graded_cost2=cost2(graded_graph,3)\n",
    "def grader_cost2(data):\n",
    "    assert(data==((1/3)*(6/6))) # 1/3 is number of clusters\n",
    "    return True\n",
    "grader_cost2(graded_cost2)"
   ]
  },
  {
   "cell_type": "code",
   "execution_count": 24,
   "metadata": {},
   "outputs": [],
   "source": [
    "def subgraph_s(each_clusters_nodes):\n",
    "        \n",
    "        '''In this function, we will return subgraphs of a given graph based on the no-of clusters'''\n",
    "        subgraph = nx.Graph()\n",
    "        ego_graphs = []\n",
    "\n",
    "        for j in range(len(each_clusters_nodes)):\n",
    "                    cluster = each_clusters_nodes[j]\n",
    "                    subgraph = nx.Graph()\n",
    "                    for node_i in cluster:\n",
    "                        cluster_graph=nx.ego_graph(B,node_i,radius=3)\n",
    "                        subgraph.add_nodes_from(cluster_graph.nodes())\n",
    "                        subgraph.add_edges_from(cluster_graph.edges())\n",
    "                    ego_graphs.append(subgraph)\n",
    "        return ego_graphs"
   ]
  },
  {
   "cell_type": "markdown",
   "metadata": {},
   "source": [
    "# <font color='red'>Task 1 : Apply clustering algorithm to group similar actors</font>"
   ]
  },
  {
   "cell_type": "code",
   "execution_count": 25,
   "metadata": {},
   "outputs": [
    {
     "name": "stderr",
     "output_type": "stream",
     "text": [
      "100%|██████████| 8/8 [04:43<00:00, 35.43s/it]\n"
     ]
    }
   ],
   "source": [
    "\n",
    "from sklearn.cluster import KMeans\n",
    "def ClusterIndices(clustNum, labels_array): #numpy \n",
    "    return np.where(labels_array == clustNum)[0]\n",
    "\n",
    "\n",
    "number_of_clusters_List = [3, 5, 10, 30, 50, 100, 200, 500]\n",
    "\n",
    "Cost_List = []\n",
    "for i in tqdm(number_of_clusters_List):\n",
    "    # Fitting clustering algorithm to actor embeddings and getting nodes in each cluster\n",
    "    clustering = KMeans(n_clusters=i,init = 'k-means++', random_state=0)\n",
    "    clustering.fit(actor_embeddings)\n",
    "    labels = clustering.labels_\n",
    "    actor_nodes1 = np.array(actor_nodes)\n",
    "    each_cluster_actor_nodes = []\n",
    "    number_of_clusters = i\n",
    "    for x in range(number_of_clusters):\n",
    "        y = ClusterIndices(x,labels)\n",
    "        z = actor_nodes1[y]\n",
    "        each_cluster_actor_nodes.append(z)\n",
    "    subgraphs = subgraph_s(each_cluster_actor_nodes)\n",
    "    \n",
    "    Cost1 = []\n",
    "    Cost2 = []\n",
    "    for j in range(number_of_clusters):\n",
    "        Cost11 = cost1(subgraphs[j],number_of_clusters)\n",
    "        Cost1.append(Cost11)\n",
    "        Cost22 = cost2(subgraphs[j],number_of_clusters)\n",
    "        Cost2.append(Cost22)\n",
    "    \n",
    "    Cost = (sum(Cost1)) * (sum(Cost2))\n",
    "    Cost_List.append(Cost)\n",
    "    "
   ]
  },
  {
   "cell_type": "code",
   "execution_count": 26,
   "metadata": {},
   "outputs": [
    {
     "name": "stdout",
     "output_type": "stream",
     "text": [
      "For k = 3 , Cost = 6.824165057918872\n",
      "For k = 5 , Cost = 5.910486151327374\n",
      "For k = 10 , Cost = 4.952555683185622\n",
      "For k = 30 , Cost = 3.8528247493859515\n",
      "For k = 50 , Cost = 3.2996076972985584\n",
      "For k = 100 , Cost = 3.0680117862526064\n",
      "For k = 200 , Cost = 2.6291596039391187\n",
      "For k = 500 , Cost = 1.9767068723860768\n"
     ]
    }
   ],
   "source": [
    "for x in range(len(Cost_List)):\n",
    "    print(\"For k = {} , Cost = {}\".format(number_of_clusters_List[x] ,Cost_List[x] ))"
   ]
  },
  {
   "cell_type": "markdown",
   "metadata": {},
   "source": [
    "<h4>The Best value of k is 3. Since we got maximum cost if no-of clusters = 3</h4>"
   ]
  },
  {
   "cell_type": "markdown",
   "metadata": {
    "colab_type": "text",
    "id": "GIOPhbBizdWd"
   },
   "source": [
    "<font color='blue'>Grouping similar actors</font>"
   ]
  },
  {
   "cell_type": "code",
   "execution_count": 27,
   "metadata": {},
   "outputs": [],
   "source": [
    "kmeans = KMeans(n_clusters = 3, init = 'k-means++', random_state = 0)\n",
    "y_kmeans = kmeans.fit_predict(actor_embeddings)"
   ]
  },
  {
   "cell_type": "markdown",
   "metadata": {},
   "source": [
    "<font color='blue'>Displaying similar actor clusters in 2-D</font>"
   ]
  },
  {
   "cell_type": "code",
   "execution_count": 28,
   "metadata": {},
   "outputs": [],
   "source": [
    "from sklearn.manifold import TSNE\n",
    "transform = TSNE #PCA\n",
    "\n",
    "trans = transform(n_components=2)\n",
    "Actor_node_embeddings_2d = trans.fit_transform(actor_embeddings)\n",
    "X = Actor_node_embeddings_2d"
   ]
  },
  {
   "cell_type": "code",
   "execution_count": 29,
   "metadata": {},
   "outputs": [
    {
     "data": {
      "image/png": "[encoded data removed]",
      "text/plain": [
       "<Figure size 432x288 with 1 Axes>"
      ]
     },
     "metadata": {
      "needs_background": "light"
     },
     "output_type": "display_data"
    }
   ],
   "source": [
    "plt.scatter(X[y_kmeans == 0, 0], X[y_kmeans == 0, 1], s = 100, c = 'red', label = 'Cluster 1')\n",
    "plt.scatter(X[y_kmeans == 1, 0], X[y_kmeans == 1, 1], s = 100, c = 'blue', label = 'Cluster 2')\n",
    "plt.scatter(X[y_kmeans == 2, 0], X[y_kmeans == 2, 1], s = 100, c = 'green', label = 'Cluster 3')\n",
    "plt.title('Clusters of Actor Nodes')\n",
    "plt.xlabel('X-Axis')\n",
    "plt.ylabel('Y-axis')\n",
    "plt.legend()\n",
    "plt.show()"
   ]
  },
  {
   "cell_type": "code",
   "execution_count": null,
   "metadata": {},
   "outputs": [],
   "source": []
  },
  {
   "cell_type": "markdown",
   "metadata": {},
   "source": [
    "# <font color='red'>Task 2 : Apply clustering algorithm to group similar Movies</font>"
   ]
  },
  {
   "cell_type": "code",
   "execution_count": 30,
   "metadata": {},
   "outputs": [],
   "source": [
    "def cost1(graph,number_of_clusters):\n",
    "    '''In this function, we will calculate cost1'''\n",
    "    N = number_of_clusters\n",
    "    larest_cc = max(nx.connected_components(graph), key = len)\n",
    "    num_nodes_L_cc = len(larest_cc)\n",
    "    total_num_nodes = graph.number_of_nodes()\n",
    "   \n",
    "    cost1= num_nodes_L_cc/total_num_nodes\n",
    "    cost1 = cost1/N\n",
    "    return cost1"
   ]
  },
  {
   "cell_type": "code",
   "execution_count": 31,
   "metadata": {},
   "outputs": [],
   "source": [
    "def cost2(graph,number_of_clusters):\n",
    "    '''In this function, we will calculate cost1'''\n",
    "    N = number_of_clusters\n",
    "    Sum_degree = graph.number_of_edges()\n",
    "    actors = []\n",
    "    for i in graph.nodes():\n",
    "        if 'a' in i:\n",
    "           actors.append(i)\n",
    "    actors = set(actors)\n",
    "    L_actors = len(actors)\n",
    "    cost2= Sum_degree/L_actors\n",
    "    cost2 = cost2/N\n",
    "    \n",
    "    return cost2"
   ]
  },
  {
   "cell_type": "code",
   "execution_count": 32,
   "metadata": {},
   "outputs": [
    {
     "name": "stderr",
     "output_type": "stream",
     "text": [
      "100%|██████████| 8/8 [06:32<00:00, 49.05s/it]\n"
     ]
    }
   ],
   "source": [
    "\n",
    "from sklearn.cluster import KMeans\n",
    "def ClusterIndices(clustNum, labels_array): # This function will return the indices of nodes belongs to puticular cluster\n",
    "    return np.where(labels_array == clustNum)[0]\n",
    "\n",
    "\n",
    "number_of_clusters_List = [3, 5, 10, 30, 50, 100, 200, 500]\n",
    "\n",
    "Cost_List = []\n",
    "for i in tqdm(number_of_clusters_List):\n",
    "    # Fitting clustering algorithm to actor embeddings and getting nodes in each cluster\n",
    "    clustering = KMeans(n_clusters=i,init = 'k-means++', random_state=0)\n",
    "    clustering.fit(movie_embeddings)\n",
    "    labels = clustering.labels_\n",
    "    movie_nodes1 = np.array(movie_nodes)\n",
    "    each_cluster_movie_nodes = []\n",
    "    number_of_clusters = i\n",
    "    for x in range(number_of_clusters):\n",
    "        y = ClusterIndices(x,labels)\n",
    "        z = movie_nodes1[y]\n",
    "        each_cluster_movie_nodes.append(z)\n",
    "    subgraphs = subgraph_s(each_cluster_movie_nodes)\n",
    "    \n",
    "    Cost1 = []\n",
    "    Cost2 = []\n",
    "    for j in range(number_of_clusters):\n",
    "        Cost11 = cost1(subgraphs[j],number_of_clusters)\n",
    "        Cost1.append(Cost11)\n",
    "        Cost22 = cost2(subgraphs[j],number_of_clusters)\n",
    "        Cost2.append(Cost22)\n",
    "    \n",
    "    Cost = (sum(Cost1)) * (sum(Cost2))\n",
    "    Cost_List.append(Cost)\n",
    "    "
   ]
  },
  {
   "cell_type": "code",
   "execution_count": 33,
   "metadata": {},
   "outputs": [
    {
     "name": "stdout",
     "output_type": "stream",
     "text": [
      "For k = 3 , Cost = 2.640166252345703\n",
      "For k = 5 , Cost = 2.754527229878902\n",
      "For k = 10 , Cost = 2.640396521493657\n",
      "For k = 30 , Cost = 2.4144051475990085\n",
      "For k = 50 , Cost = 2.2355453008266863\n",
      "For k = 100 , Cost = 2.1746033526733406\n",
      "For k = 200 , Cost = 2.159198134082829\n",
      "For k = 500 , Cost = 2.395147961230284\n"
     ]
    }
   ],
   "source": [
    "for x in range(len(Cost_List)):\n",
    "    print(\"For k = {} , Cost = {}\".format(number_of_clusters_List[x] ,Cost_List[x] ))"
   ]
  },
  {
   "cell_type": "markdown",
   "metadata": {},
   "source": [
    "<h4>The Best value of k is 5. Since we got maximum cost if no-of clusters = 5</h4>"
   ]
  },
  {
   "cell_type": "markdown",
   "metadata": {
    "colab_type": "text",
    "id": "oLtD_0HWzfFA"
   },
   "source": [
    "<font color='blue'>Grouping similar movies</font>"
   ]
  },
  {
   "cell_type": "code",
   "execution_count": 35,
   "metadata": {
    "colab": {},
    "colab_type": "code",
    "id": "A1YZ5AjhzfhZ"
   },
   "outputs": [],
   "source": [
    "kmeans = KMeans(n_clusters = 5, init = 'k-means++', random_state = 0)\n",
    "y_kmeans = kmeans.fit_predict(movie_embeddings)"
   ]
  },
  {
   "cell_type": "markdown",
   "metadata": {
    "colab_type": "text",
    "id": "fvhwPpX00EhA"
   },
   "source": [
    "<font color='blue'>Displaying similar movie clusters in 2D</font>"
   ]
  },
  {
   "cell_type": "code",
   "execution_count": 37,
   "metadata": {
    "colab": {},
    "colab_type": "code",
    "id": "BpC5C2TrzfwK"
   },
   "outputs": [],
   "source": [
    "from sklearn.manifold import TSNE\n",
    "transform = TSNE #PCA\n",
    "\n",
    "trans = transform(n_components=2)\n",
    "Movie_node_embeddings_2d = trans.fit_transform(movie_embeddings)\n",
    "X = Movie_node_embeddings_2d"
   ]
  },
  {
   "cell_type": "code",
   "execution_count": 38,
   "metadata": {},
   "outputs": [
    {
     "data": {
      "image/png": "[encoded data removed]",
      "text/plain": [
       "<Figure size 432x288 with 1 Axes>"
      ]
     },
     "metadata": {
      "needs_background": "light"
     },
     "output_type": "display_data"
    }
   ],
   "source": [
    "plt.scatter(X[y_kmeans == 0, 0], X[y_kmeans == 0, 1], s = 100, c = 'red', label = 'Cluster 1')\n",
    "plt.scatter(X[y_kmeans == 1, 0], X[y_kmeans == 1, 1], s = 100, c = 'blue', label = 'Cluster 2')\n",
    "plt.scatter(X[y_kmeans == 2, 0], X[y_kmeans == 2, 1], s = 100, c = 'green', label = 'Cluster 3')\n",
    "plt.scatter(X[y_kmeans == 3, 0], X[y_kmeans == 3, 1], s = 100, c = 'orange', label = 'Cluster 2')\n",
    "plt.scatter(X[y_kmeans == 4, 0], X[y_kmeans == 4, 1], s = 100, c = 'pink', label = 'Cluster 3')\n",
    "plt.title('Clusters of Actor Nodes')\n",
    "plt.xlabel('X-Axis')\n",
    "plt.ylabel('Y-axis')\n",
    "plt.legend()\n",
    "plt.show()"
   ]
  },
  {
   "cell_type": "code",
   "execution_count": null,
   "metadata": {},
   "outputs": [],
   "source": []
  }
 ],
 "metadata": {
  "colab": {
   "collapsed_sections": [],
   "name": "Clustering_Assignment.ipynb",
   "provenance": []
  },
  "kernelspec": {
   "display_name": "Python 3",
   "language": "python",
   "name": "python3"
  },
  "language_info": {
   "codemirror_mode": {
    "name": "ipython",
    "version": 3
   },
   "file_extension": ".py",
   "mimetype": "text/x-python",
   "name": "python",
   "nbconvert_exporter": "python",
   "pygments_lexer": "ipython3",
   "version": "3.7.4"
  }
 },
 "nbformat": 4,
 "nbformat_minor": 1
}
